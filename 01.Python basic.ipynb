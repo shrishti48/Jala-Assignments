{
 "cells": [
  {
   "cell_type": "code",
   "execution_count": 1,
   "id": "66334aae",
   "metadata": {},
   "outputs": [
    {
     "name": "stdout",
     "output_type": "stream",
     "text": [
      "Shrishti\n"
     ]
    }
   ],
   "source": [
    "print(\"Shrishti\")"
   ]
  },
  {
   "cell_type": "code",
   "execution_count": 3,
   "id": "7eda6af3",
   "metadata": {},
   "outputs": [
    {
     "name": "stdout",
     "output_type": "stream",
     "text": [
      "shrishti\n",
      "7\n",
      "12\n"
     ]
    }
   ],
   "source": [
    "#To print name\n",
    "print(\"shrishti\")\n",
    "\"\"\"\"To add numbers\n",
    "multiply numbers\"\"\"\n",
    "print(3+4)\n",
    "print(3*4)\n"
   ]
  },
  {
   "cell_type": "code",
   "execution_count": 7,
   "id": "d5f23a51",
   "metadata": {},
   "outputs": [
    {
     "name": "stdout",
     "output_type": "stream",
     "text": [
      "10 True S 4.5 4.567\n"
     ]
    }
   ],
   "source": [
    "a = 10\n",
    "b = True\n",
    "c = 'S'\n",
    "d = 4.5\n",
    "e = 4.567\n",
    "print(a,b,c,d,e)"
   ]
  },
  {
   "cell_type": "code",
   "execution_count": 8,
   "id": "41d16bf3",
   "metadata": {},
   "outputs": [
    {
     "name": "stdout",
     "output_type": "stream",
     "text": [
      "Value of Local variable: 50\n",
      "Value of Global Variable: 10\n"
     ]
    }
   ],
   "source": [
    "num = 10\n",
    "def func():\n",
    "  num = 50\n",
    "  print(\"Value of Local variable:\", num)\n",
    " \n",
    "func() \n",
    "print(\"Value of Global Variable:\", num)"
   ]
  },
  {
   "cell_type": "code",
   "execution_count": null,
   "id": "cbac60c9",
   "metadata": {},
   "outputs": [],
   "source": []
  }
 ],
 "metadata": {
  "kernelspec": {
   "display_name": "Python 3 (ipykernel)",
   "language": "python",
   "name": "python3"
  },
  "language_info": {
   "codemirror_mode": {
    "name": "ipython",
    "version": 3
   },
   "file_extension": ".py",
   "mimetype": "text/x-python",
   "name": "python",
   "nbconvert_exporter": "python",
   "pygments_lexer": "ipython3",
   "version": "3.9.7"
  }
 },
 "nbformat": 4,
 "nbformat_minor": 5
}
