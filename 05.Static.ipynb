{
 "cells": [
  {
   "cell_type": "code",
   "execution_count": 1,
   "id": "b85363cb",
   "metadata": {},
   "outputs": [
    {
     "name": "stdout",
     "output_type": "stream",
     "text": [
      "Even\n",
      "Odd\n"
     ]
    }
   ],
   "source": [
    "class number:\n",
    "   e=\"Even\"\n",
    "   o=\"Odd\"\n",
    "print(number.e)\n",
    "print(number.o)"
   ]
  },
  {
   "cell_type": "code",
   "execution_count": 4,
   "id": "9d8065ec",
   "metadata": {},
   "outputs": [
    {
     "name": "stdout",
     "output_type": "stream",
     "text": [
      "7\n"
     ]
    }
   ],
   "source": [
    "class number:\n",
    "    staticVariable = 7\n",
    "instance = number()\n",
    "print(instance.staticVariable)\n"
   ]
  },
  {
   "cell_type": "code",
   "execution_count": 6,
   "id": "ccf08e20",
   "metadata": {},
   "outputs": [
    {
     "name": "stdout",
     "output_type": "stream",
     "text": [
      "12\n"
     ]
    }
   ],
   "source": [
    "class number:\n",
    "    staticVariable = 7\n",
    "instance.staticVariable = 12\n",
    "print(instance.staticVariable)"
   ]
  },
  {
   "cell_type": "code",
   "execution_count": 7,
   "id": "48f9e01b",
   "metadata": {},
   "outputs": [
    {
     "name": "stdout",
     "output_type": "stream",
     "text": [
      "12\n"
     ]
    }
   ],
   "source": [
    "class number:\n",
    "    staticVariable = 7\n",
    "number.staticVariable = 12\n",
    "print(number.staticVariable)"
   ]
  }
 ],
 "metadata": {
  "kernelspec": {
   "display_name": "Python 3 (ipykernel)",
   "language": "python",
   "name": "python3"
  },
  "language_info": {
   "codemirror_mode": {
    "name": "ipython",
    "version": 3
   },
   "file_extension": ".py",
   "mimetype": "text/x-python",
   "name": "python",
   "nbconvert_exporter": "python",
   "pygments_lexer": "ipython3",
   "version": "3.9.7"
  }
 },
 "nbformat": 4,
 "nbformat_minor": 5
}
