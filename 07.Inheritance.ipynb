{
 "cells": [
  {
   "cell_type": "code",
   "execution_count": null,
   "id": "58061131",
   "metadata": {},
   "outputs": [],
   "source": [
    "class Animal():\n",
    "    def show(self,gender,species,sound):\n",
    "            self.gender = Female\n",
    "            self.speies = dog\n",
    "            self.color = black\n",
    "            \n",
    "    class Dog(Animal):\n",
    "        def show(self,color,breed,sound):\n",
    "            self.color=brown\n",
    "            self.breed=pug\n",
    "            self.sound=bark\n",
    "        \n",
    "        class pug(Animal,Dog):\n",
    "            def show(self,bark,teeth,color):\n",
    "                self.bark=bark\n",
    "                self.teeth=sharp\n",
    "                self.color=peach\n",
    "obj = Dog()\n",
    "obj.show(color)\n",
    "\n",
    "obj = pug(color)\n",
    "obj.show(color)\n",
    "\n",
    "            "
   ]
  },
  {
   "cell_type": "code",
   "execution_count": null,
   "id": "740b1ad0",
   "metadata": {},
   "outputs": [],
   "source": []
  }
 ],
 "metadata": {
  "kernelspec": {
   "display_name": "Python 3 (ipykernel)",
   "language": "python",
   "name": "python3"
  },
  "language_info": {
   "codemirror_mode": {
    "name": "ipython",
    "version": 3
   },
   "file_extension": ".py",
   "mimetype": "text/x-python",
   "name": "python",
   "nbconvert_exporter": "python",
   "pygments_lexer": "ipython3",
   "version": "3.9.7"
  }
 },
 "nbformat": 4,
 "nbformat_minor": 5
}
