{
 "cells": [
  {
   "cell_type": "code",
   "execution_count": 1,
   "id": "71679e2c",
   "metadata": {},
   "outputs": [
    {
     "name": "stdout",
     "output_type": "stream",
     "text": [
      "Nothing to find\n",
      "Area of square: 100\n",
      "Area of rectangle 200\n"
     ]
    }
   ],
   "source": [
    "class area:\n",
    "    def find_area(self,a= None,b= None):\n",
    "        if a!=None and b!=None:\n",
    "            print(\"Area of rectangle\",(a*b))\n",
    "        elif a!=None:\n",
    "            print(\"Area of square:\",(a*a))\n",
    "        else:\n",
    "            print(\"Nothing to find\")\n",
    "obj1=area()\n",
    "obj1.find_area()\n",
    "obj1.find_area(10)\n",
    "obj1.find_area(10,20)        \n",
    "        "
   ]
  },
  {
   "cell_type": "code",
   "execution_count": 3,
   "id": "c3a0e59d",
   "metadata": {},
   "outputs": [
    {
     "data": {
      "text/plain": [
       "3.45"
      ]
     },
     "execution_count": 3,
     "metadata": {},
     "output_type": "execute_result"
    }
   ],
   "source": [
    "class addition:\n",
    "    def find_sum(self,a = int,b= int):\n",
    "        sum = a+b\n",
    "        return sum\n",
    "    def find_sum(self,a = float,b=float):\n",
    "        sum = a+b\n",
    "        return sum\n",
    "    \n",
    "        \n",
    "obj1=addition()\n",
    "obj1.find_sum(10,20)\n",
    "obj1.find_sum(1.05,2.40)"
   ]
  },
  {
   "cell_type": "code",
   "execution_count": 5,
   "id": "291e1bfe",
   "metadata": {},
   "outputs": [
    {
     "name": "stdout",
     "output_type": "stream",
     "text": [
      "Area of square: 100\n"
     ]
    }
   ],
   "source": [
    "class area:\n",
    "    def find_area(self,a):\n",
    "        if a<10:\n",
    "            print(\"Area of circle\",(3.14*a*a))\n",
    "        elif a:\n",
    "            print(\"Area of square:\",(a*a))\n",
    "        else:\n",
    "            print(\"Nothing to find\")\n",
    "obj1=area()\n",
    "obj1.find_area(10)\n"
   ]
  },
  {
   "cell_type": "code",
   "execution_count": null,
   "id": "bf7c72e0",
   "metadata": {},
   "outputs": [],
   "source": []
  }
 ],
 "metadata": {
  "kernelspec": {
   "display_name": "Python 3 (ipykernel)",
   "language": "python",
   "name": "python3"
  },
  "language_info": {
   "codemirror_mode": {
    "name": "ipython",
    "version": 3
   },
   "file_extension": ".py",
   "mimetype": "text/x-python",
   "name": "python",
   "nbconvert_exporter": "python",
   "pygments_lexer": "ipython3",
   "version": "3.9.7"
  }
 },
 "nbformat": 4,
 "nbformat_minor": 5
}
