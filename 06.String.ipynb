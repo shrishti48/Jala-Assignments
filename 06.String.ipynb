{
 "cells": [
  {
   "cell_type": "code",
   "execution_count": null,
   "id": "c35bb4bc",
   "metadata": {},
   "outputs": [],
   "source": [
    "string = 'Hello'\n",
    "print(string)\n",
    "\n",
    "string = \"Hello\"\n",
    "print(string)\n",
    "\n",
    "string = '''Hello'''\n",
    "print(string)\n",
    "\n",
    "string = \"\"\"Hello\"\"\"\n",
    "print(string)"
   ]
  },
  {
   "cell_type": "code",
   "execution_count": null,
   "id": "f5464c29",
   "metadata": {},
   "outputs": [],
   "source": [
    "string1 = 'Hello'\n",
    "string2 = 'World'\n",
    "print(string1+' '+string2)"
   ]
  },
  {
   "cell_type": "code",
   "execution_count": null,
   "id": "de3ca3ce",
   "metadata": {},
   "outputs": [],
   "source": [
    "string1 = 'Hello'\n",
    "print(len(string1))"
   ]
  },
  {
   "cell_type": "code",
   "execution_count": null,
   "id": "82ea94a9",
   "metadata": {},
   "outputs": [],
   "source": [
    "myString = \"Hello World\"\n",
    "print(myString[4 : ])\n"
   ]
  },
  {
   "cell_type": "code",
   "execution_count": null,
   "id": "8f9f653f",
   "metadata": {},
   "outputs": [],
   "source": [
    "string1 = 'Hello'\n",
    "string2 = 'HELLO'\n",
    "print(string1==string2)"
   ]
  },
  {
   "cell_type": "code",
   "execution_count": null,
   "id": "c5b1febc",
   "metadata": {},
   "outputs": [],
   "source": [
    "string = \"Hello world\"\n",
    "string1 = \"Hello\"\n",
    "print(string.StartsWith(\"H\"))\n",
    "print(string.endsWith(\"d\"))\n",
    "print(string.compareTo(string1))"
   ]
  },
  {
   "cell_type": "code",
   "execution_count": 1,
   "id": "c7fa6030",
   "metadata": {},
   "outputs": [
    {
     "name": "stdout",
     "output_type": "stream",
     "text": [
      "Hello World\n"
     ]
    }
   ],
   "source": [
    "myString = \"  Hello World\"\n",
    "print(myString.strip())"
   ]
  },
  {
   "cell_type": "code",
   "execution_count": 2,
   "id": "944b8a76",
   "metadata": {},
   "outputs": [
    {
     "name": "stdout",
     "output_type": "stream",
     "text": [
      "Hello Earth\n"
     ]
    }
   ],
   "source": [
    "string = (\"Hello World\")\n",
    "print(string.replace(\"World\", \"Earth\"))"
   ]
  },
  {
   "cell_type": "code",
   "execution_count": 6,
   "id": "a167a4c8",
   "metadata": {},
   "outputs": [
    {
     "name": "stdout",
     "output_type": "stream",
     "text": [
      "['Apple', 'orange', 'grapes']\n"
     ]
    }
   ],
   "source": [
    "text = \"Apple.orange.grapes\"\n",
    "\n",
    "x = text.split(\".\")\n",
    "\n",
    "print(x)"
   ]
  },
  {
   "cell_type": "code",
   "execution_count": 7,
   "id": "f4605da7",
   "metadata": {},
   "outputs": [
    {
     "name": "stdout",
     "output_type": "stream",
     "text": [
      "<class 'str'>\n"
     ]
    }
   ],
   "source": [
    "num = 100\n",
    "convert_num = str(num)\n",
    "print(type(convert_num))"
   ]
  },
  {
   "cell_type": "code",
   "execution_count": 8,
   "id": "9313a09c",
   "metadata": {},
   "outputs": [
    {
     "name": "stdout",
     "output_type": "stream",
     "text": [
      "hello\n"
     ]
    }
   ],
   "source": [
    "string = \"HELLO\"\n",
    "print(string.lower())"
   ]
  },
  {
   "cell_type": "code",
   "execution_count": null,
   "id": "b792183e",
   "metadata": {},
   "outputs": [],
   "source": []
  }
 ],
 "metadata": {
  "kernelspec": {
   "display_name": "Python 3 (ipykernel)",
   "language": "python",
   "name": "python3"
  },
  "language_info": {
   "codemirror_mode": {
    "name": "ipython",
    "version": 3
   },
   "file_extension": ".py",
   "mimetype": "text/x-python",
   "name": "python",
   "nbconvert_exporter": "python",
   "pygments_lexer": "ipython3",
   "version": "3.9.7"
  }
 },
 "nbformat": 4,
 "nbformat_minor": 5
}
