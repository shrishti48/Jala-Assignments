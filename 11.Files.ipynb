{
 "cells": [
  {
   "cell_type": "code",
   "execution_count": null,
   "id": "1fdb8a63",
   "metadata": {},
   "outputs": [],
   "source": [
    "# Write a program to read text file\n",
    "f=open(\"book.txt\", \"r\")\n",
    "if f.mode == 'r':\n",
    "    contents =f.read()"
   ]
  },
  {
   "cell_type": "code",
   "execution_count": null,
   "id": "48616e6c",
   "metadata": {},
   "outputs": [],
   "source": [
    "#Write a program to write text to .txt file using InputStream\n",
    "\n",
    "str1 = \"Hello\"\n",
    "str2 = \"World\"\n",
    "str3 = \"Shrishti\"\n",
    "File_object.write(str1)\n",
    "File_object.writelines(L) for L = [str1, str2, str3] \n"
   ]
  },
  {
   "cell_type": "code",
   "execution_count": null,
   "id": "3b78bcd2",
   "metadata": {},
   "outputs": [],
   "source": [
    "# Write a program to read a file stream\n",
    "\n",
    "with open(\"test.txt\",'w',encoding = 'utf-8') as f:\n",
    "   f.write(\"my first file\\n\")\n",
    "   f.write(\"This file\\n\\n\")\n",
    "   f.write(\"contains three lines\\n\")"
   ]
  },
  {
   "cell_type": "code",
   "execution_count": null,
   "id": "46d2b5e6",
   "metadata": {},
   "outputs": [],
   "source": [
    "#write a program to read a file stream supports random access\n",
    "import sys,random\n",
    "with open(sys.argv[1],\"r\") as f:\n",
    "    f.seek(0,2)                \n",
    "    bytes = f.tell()\n",
    "    f.seek(int(bytes*random.random()))\n",
    "\n",
    "    while True:\n",
    "        f.seek(-2,1)\n",
    "        ch = f.read(1)\n",
    "        if ch=='\\n': break\n",
    "        if f.tell()==1: break\n",
    "\n",
    "    \n",
    "    print(f.readline())"
   ]
  },
  {
   "cell_type": "code",
   "execution_count": null,
   "id": "18dd7cbb",
   "metadata": {},
   "outputs": [],
   "source": [
    "# Write a program to read a file a just to a particular index using seek()\n",
    "f = open('book.txt', 'r')\n",
    "f.seek(3)\n",
    "print(f.read())"
   ]
  },
  {
   "cell_type": "code",
   "execution_count": null,
   "id": "81a9c860",
   "metadata": {},
   "outputs": [],
   "source": [
    "#Write a program to check whether a file is having read access and write access permissions\n",
    "import os\n",
    "os.access('my_file', os.R_OK)\n",
    "os.access('my_file', os.W_OK)"
   ]
  }
 ],
 "metadata": {
  "kernelspec": {
   "display_name": "Python 3 (ipykernel)",
   "language": "python",
   "name": "python3"
  },
  "language_info": {
   "codemirror_mode": {
    "name": "ipython",
    "version": 3
   },
   "file_extension": ".py",
   "mimetype": "text/x-python",
   "name": "python",
   "nbconvert_exporter": "python",
   "pygments_lexer": "ipython3",
   "version": "3.9.7"
  }
 },
 "nbformat": 4,
 "nbformat_minor": 5
}
