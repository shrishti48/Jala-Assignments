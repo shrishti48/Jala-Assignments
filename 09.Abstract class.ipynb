{
 "cells": [
  {
   "cell_type": "code",
   "execution_count": null,
   "id": "fc773f09",
   "metadata": {},
   "outputs": [],
   "source": [
    "from abc import *\n",
    "class Demo1(ABC):\n",
    "   @abstractmethod\n",
    "   def m1(self):\n",
    "       pass\n",
    "   @abstractmethod\n",
    "   def m2(self):\n",
    "       pass\n",
    "   def m3(self):\n",
    "       print(\"With abstract method\")"
   ]
  },
  {
   "cell_type": "code",
   "execution_count": null,
   "id": "d69fd4fd",
   "metadata": {},
   "outputs": [],
   "source": [
    "class AbstractClass(object):\n",
    "    __metaclass__ = abc.ABCMeta\n",
    "\n",
    "    @abstractmethod\n",
    "    def absmethod(self):\n",
    "        pass\n",
    "\n",
    "class ChildClass(AbstractClass):\n",
    "    def absmethod(self):\n",
    "        print(\"non abstract method\")\n",
    "obj = ChildClass"
   ]
  },
  {
   "cell_type": "code",
   "execution_count": 1,
   "id": "e7670889",
   "metadata": {},
   "outputs": [
    {
     "name": "stdout",
     "output_type": "stream",
     "text": [
      "re-defination of display function\n",
      "child class\n",
      "message from parent\n"
     ]
    }
   ],
   "source": [
    "from abc import ABC, abstractmethod\n",
    "\n",
    "class Parent(ABC):\n",
    "    \n",
    "    @abstractmethod\n",
    "    def display(self):\n",
    "        pass\n",
    "    \n",
    "    def message(self):\n",
    "        print(\"message from parent\")\n",
    "        \n",
    "class Children(Parent):\n",
    "    def display(self):\n",
    "        print(\"re-defination of display function\")\n",
    "        print(\"child class\")\n",
    "        \n",
    "c = Children()\n",
    "c.display()\n",
    "c.message()"
   ]
  },
  {
   "cell_type": "code",
   "execution_count": 2,
   "id": "afe620ac",
   "metadata": {},
   "outputs": [],
   "source": [
    "class Child:\n",
    "\n",
    "    def __init__(self):\n",
    "        pass\n",
    "\n",
    "    def ask_time(self):                    \n",
    "        return self.read_time()            \n",
    "\n",
    "\n",
    "class Parent:\n",
    "\n",
    "    def __init__(self, name, minutes_fast):\n",
    "        self.name = name\n",
    "        self.minutes_fast = minutes_fast\n",
    "        self.children = {}\n",
    "\n",
    "    def add_child(self, name):              \n",
    "        self.children[name] = Child()       \n",
    "\n",
    "    def get_child(self, name):\n",
    "        if name not in self.children:\n",
    "            self.add_child(name)\n",
    "            return self.children[name]\n",
    "\n",
    "    def read_time(self):\n",
    "        current_time = datetime.now()\n",
    "        delta = timedelta(minutes=self.minutes_fast)\n",
    "        return (current_time + delta).strftime(\"%H:%M:%S\")\n"
   ]
  },
  {
   "cell_type": "code",
   "execution_count": null,
   "id": "3c2959ad",
   "metadata": {},
   "outputs": [],
   "source": []
  }
 ],
 "metadata": {
  "kernelspec": {
   "display_name": "Python 3 (ipykernel)",
   "language": "python",
   "name": "python3"
  },
  "language_info": {
   "codemirror_mode": {
    "name": "ipython",
    "version": 3
   },
   "file_extension": ".py",
   "mimetype": "text/x-python",
   "name": "python",
   "nbconvert_exporter": "python",
   "pygments_lexer": "ipython3",
   "version": "3.9.7"
  }
 },
 "nbformat": 4,
 "nbformat_minor": 5
}
