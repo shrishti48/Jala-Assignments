{
 "cells": [
  {
   "cell_type": "code",
   "execution_count": null,
   "id": "6a420b06",
   "metadata": {},
   "outputs": [],
   "source": [
    "def sum(a,n):\n",
    "    sum = 0\n",
    "    for i in range(n):\n",
    "        sum += a[i]\n",
    "    return sum\n",
    "arr =[1,2,3,4,5]\n",
    "n = len(arr)\n",
    "print(sum(arr,n))"
   ]
  },
  {
   "cell_type": "code",
   "execution_count": null,
   "id": "e60f9588",
   "metadata": {},
   "outputs": [],
   "source": [
    "def average( a , n ):\n",
    "    sum = 0\n",
    "    for i in range(n):\n",
    "        sum += a[i]\n",
    "    return sum/n;\n",
    "arr = [1, 2, 3, 4, 5, 6, 7, 8, ]\n",
    "n = len(arr)\n",
    "print(average(arr, n))"
   ]
  },
  {
   "cell_type": "code",
   "execution_count": null,
   "id": "2922c8cb",
   "metadata": {},
   "outputs": [],
   "source": [
    "arr = [1,2,3,4,5]\n",
    "print(arr.index(2))"
   ]
  },
  {
   "cell_type": "code",
   "execution_count": null,
   "id": "6a89f2e3",
   "metadata": {},
   "outputs": [],
   "source": [
    "a = input(\"Enter a  number:\")\n",
    "arr =[1,2,3,4,5]\n",
    "if n in arr:\n",
    "    print(\"found element\")\n",
    "else:\n",
    "    print(\"specified element is not present\")"
   ]
  },
  {
   "cell_type": "code",
   "execution_count": null,
   "id": "b42af2e3",
   "metadata": {},
   "outputs": [],
   "source": [
    "def remove(arr):\n",
    "    arr = arr.pop(0)\n",
    "    return arr\n",
    "arr = [1,2,3,4]\n",
    "print(remove(arr))\n",
    "    "
   ]
  },
  {
   "cell_type": "code",
   "execution_count": null,
   "id": "e814e478",
   "metadata": {},
   "outputs": [],
   "source": [
    "arr1 = [1, 2, 3, 4, 5];        \n",
    "arr2 = [None] * len(arr1);       \n",
    "for i in range(0, len(arr1)):    \n",
    "    arr2[i] = arr1[i];         \n",
    "print(\"Elements of original array: \");    \n",
    "for i in range(0, len(arr1)):    \n",
    "    print(arr1[i]),    \n",
    "print();         \n",
    "print(\"Elements of new array: \");    \n",
    "for i in range(0, len(arr2)):    \n",
    "    print(arr2[i])"
   ]
  },
  {
   "cell_type": "code",
   "execution_count": null,
   "id": "61537867",
   "metadata": {},
   "outputs": [],
   "source": [
    "my_list =[85,36,98,54]\n",
    "my_list.insert(2,6)\n",
    "print(my_list)"
   ]
  },
  {
   "cell_type": "code",
   "execution_count": null,
   "id": "c45f2246",
   "metadata": {},
   "outputs": [],
   "source": [
    "def getMin(arr, n):\n",
    "\tres = arr[0]\n",
    "\tfor i in range(1,n):\n",
    "\t\tres = min(res, arr[i])\n",
    "\treturn res\n",
    "def getMax(arr, n):\n",
    "\tres = arr[0]\n",
    "\tfor i in range(1,n):\n",
    "\t\tres = max(res, arr[i])\n",
    "\treturn res\n",
    "arr = [1, 2, 3, 4, 5]\n",
    "n = len(arr)\n",
    "print (\"Minimum element of array:\", getMin(arr, n))\n",
    "print (\"Maximum element of array:\", getMax(arr, n))"
   ]
  },
  {
   "cell_type": "code",
   "execution_count": null,
   "id": "c6d6a09a",
   "metadata": {},
   "outputs": [],
   "source": [
    "arr = [1, 2, 3, 4, 5]\n",
    "print(\"Array is :\",arr)\n",
    "res = arr[::-1] \n",
    "print(res)"
   ]
  },
  {
   "cell_type": "code",
   "execution_count": null,
   "id": "e4102bc3",
   "metadata": {},
   "outputs": [],
   "source": [
    "arr, occur = [], [];\n",
    "n = int(input(\"please enter the size of array: \"))\n",
    "for x in range(n):\n",
    "    occur.append(0)\n",
    "for x in range(n):\n",
    "    element = int(input(f\"please enter the element of array element between 0 to {n-1} :\"))\n",
    "    arr.append(element)\n",
    "    occur[arr[x]]=occur[arr[x]]+1\n",
    "for x in range(n):\n",
    "    if occur[x]>1:\n",
    "        print(f\"{x} is repeated {occur[x]} times\") "
   ]
  },
  {
   "cell_type": "code",
   "execution_count": null,
   "id": "bb2353a6",
   "metadata": {},
   "outputs": [],
   "source": [
    "import numpy as np\n",
    "ar1 = np.array([0, 1, 2, 3, 4])\n",
    "ar2 = [1, 3, 4]\n",
    "print(np.intersect1d(ar1, ar2))"
   ]
  },
  {
   "cell_type": "code",
   "execution_count": 1,
   "id": "e0b5ddc7",
   "metadata": {},
   "outputs": [
    {
     "name": "stdout",
     "output_type": "stream",
     "text": [
      "5\n",
      "4\n"
     ]
    }
   ],
   "source": [
    "def remove_duplicates(nums):\n",
    "    for i in range (len(nums)-1, 0, -1):\n",
    "        if nums[i] == nums[i-1]:\n",
    "            del nums[i-1]\n",
    "    return len(nums)\n",
    "\n",
    "print(remove_duplicates([0,0,1,1,2,2,3,3,4,4,4]))\n",
    "print(remove_duplicates([1, 2, 2, 3, 4, 4]))"
   ]
  },
  {
   "cell_type": "code",
   "execution_count": null,
   "id": "7d03cfd1",
   "metadata": {},
   "outputs": [],
   "source": [
    "arr1 = [10, 20, 4, 45, 99]\n",
    " \n",
    "mx=max(arr1[0],arr1[1])\n",
    "secondmax=min(arr1[0],arr1[1])\n",
    "n =len(arr1)\n",
    "for i in range(2,n):\n",
    "    if arr1[i]>mx:\n",
    "        secondmax=mx\n",
    "        mx=arr1[i]\n",
    "    elif arr1[i]>secondmax and mx != list1[i]:\n",
    "        secondmax=list1[i]\n",
    " \n",
    "print(\"Second highest number is : \")\n",
    "str(secondmax)"
   ]
  },
  {
   "cell_type": "code",
   "execution_count": null,
   "id": "32e872d5",
   "metadata": {},
   "outputs": [],
   "source": [
    "arr1 = [10, 20, 4, 45, 99]\n",
    " \n",
    "mx=max(arr1[0],arr1[1])\n",
    "secondmax=min(arr1[0],arr1[1])\n",
    "n =len(arr1)\n",
    "for i in range(2,n):\n",
    "    if arr1[i]>mx:\n",
    "        secondmax=mx\n",
    "        mx=arr1[i]\n",
    "    elif arr1[i]>secondmax and mx != list1[i]:\n",
    "        secondmax=list1[i]\n",
    " \n",
    "print(\"Second highest number is : \")\n",
    "str(secondmax)"
   ]
  },
  {
   "cell_type": "code",
   "execution_count": null,
   "id": "dee04e50",
   "metadata": {},
   "outputs": [],
   "source": [
    "import numpy as np\n",
    "evenOddArr = np.array([10, 99, 22, 50, 77, 22, 112, 19])\n",
    "print(\"The List of Numbers in evenOddArr Array = \", evenOddArr)\n",
    "evenArrCount = 0\n",
    "oddArrCount = 0\n",
    "for i in range(len(evenOddArr)):\n",
    "    if (evenOddArr[i] % 2 == 0):\n",
    "        evenArrCount = evenArrCount + 1\n",
    "    else:\n",
    "        oddArrCount = oddArrCount + 1\n",
    "print(\"The Count of Even Numbers in evenOddArr Array = \", evenArrCount)\n",
    "print(\"The Count of Odd Numbers in evenOddArr Array  = \", oddArrCount)"
   ]
  },
  {
   "cell_type": "code",
   "execution_count": null,
   "id": "d0fc3bf7",
   "metadata": {},
   "outputs": [],
   "source": [
    "arr= []\n",
    "num= int(input(\"Enter the Total Number of List Elements: \"))\n",
    "for i in range(1, num + 1):\n",
    "    value = int(input(\"Please enter the Value of %d Element : \" %i))\n",
    "    arr.append(value)\n",
    "\n",
    "print(max(arr)- min(arr))\n",
    "\n"
   ]
  },
  {
   "cell_type": "code",
   "execution_count": null,
   "id": "62805e5d",
   "metadata": {},
   "outputs": [],
   "source": [
    "a,b = input(\"Enter the numbers:\") \n",
    "arr =[1,12,23,4,5]\n",
    "if n in arr:\n",
    "    print(\"found element\")\n",
    "else:\n",
    "    print(\"specified element is not present\")"
   ]
  },
  {
   "cell_type": "code",
   "execution_count": 2,
   "id": "0745f058",
   "metadata": {},
   "outputs": [
    {
     "name": "stdout",
     "output_type": "stream",
     "text": [
      "Original array:\n",
      "1 3 5 1 3 7 9 \n",
      "After removing duplicate elements from the said array:\n",
      "1 3 5 7 9 \n",
      "Original array:\n",
      "2 4 2 6 4 8 \n",
      "After removing duplicate elements from the said array:\n",
      "2 4 6 8 "
     ]
    }
   ],
   "source": [
    "import array as arr\n",
    "def test(nums):\n",
    "    return sorted(set(nums),key=nums.index)\n",
    "\n",
    "array_num = arr.array('i', [1, 3, 5, 1, 3, 7, 9])\n",
    "print(\"Original array:\")\n",
    "for i in range(len(array_num)):    \n",
    "    print(array_num[i], end=' ')\n",
    "print(\"\\nAfter removing duplicate elements from the said array:\")\n",
    "result = arr.array('i', test(array_num))\n",
    "for i in range(len(result)):    \n",
    "    print(result[i], end=' ')\n",
    "array_num = arr.array('i', [2, 4, 2, 6, 4, 8])\n",
    "print(\"\\nOriginal array:\")\n",
    "for i in range(len(array_num)):    \n",
    "    print(array_num[i], end=' ')\n",
    "print(\"\\nAfter removing duplicate elements from the said array:\")\n",
    "result = arr.array('i', test(array_num))\n",
    "for i in range(len(result)):    \n",
    "    print(result[i], end=' ')"
   ]
  },
  {
   "cell_type": "code",
   "execution_count": null,
   "id": "c35e9ab3",
   "metadata": {},
   "outputs": [],
   "source": []
  }
 ],
 "metadata": {
  "kernelspec": {
   "display_name": "Python 3 (ipykernel)",
   "language": "python",
   "name": "python3"
  },
  "language_info": {
   "codemirror_mode": {
    "name": "ipython",
    "version": 3
   },
   "file_extension": ".py",
   "mimetype": "text/x-python",
   "name": "python",
   "nbconvert_exporter": "python",
   "pygments_lexer": "ipython3",
   "version": "3.9.7"
  }
 },
 "nbformat": 4,
 "nbformat_minor": 5
}
