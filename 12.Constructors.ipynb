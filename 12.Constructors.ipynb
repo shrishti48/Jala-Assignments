{
 "cells": [
  {
   "cell_type": "code",
   "execution_count": 4,
   "id": "22f6340a",
   "metadata": {},
   "outputs": [
    {
     "name": "stdout",
     "output_type": "stream",
     "text": [
      "A t-shirt costs Rs.150\n",
      "Default constructor\n"
     ]
    }
   ],
   "source": [
    "class default:\n",
    "    def __init__(self):\n",
    "        self.default = \"Default constructor\"\n",
    "    def print_def(self):\n",
    "            print(self.default)\n",
    "class Dress:\n",
    "   def __init__(self, type, price):\n",
    "       self.type = type\n",
    "       self.price = price\n",
    "   def details(self):\n",
    "       return f\"A {self.type} costs Rs.{self.price}\"\n",
    "t_shirt = Dress(price=150, type=\"t-shirt\")\n",
    "print(t_shirt.details())\n",
    "obj = default()\n",
    "obj.print_def()\n",
    "\n",
    " "
   ]
  },
  {
   "cell_type": "code",
   "execution_count": 11,
   "id": "08afa730",
   "metadata": {},
   "outputs": [
    {
     "name": "stdout",
     "output_type": "stream",
     "text": [
      "Default constructor\n"
     ]
    }
   ],
   "source": [
    "obj = default()\n",
    "obj.print_def()\n",
    "t_shirt = Dress(price=150, type=\"t-shirt\")\n"
   ]
  },
  {
   "cell_type": "code",
   "execution_count": 12,
   "id": "11325d1a",
   "metadata": {},
   "outputs": [],
   "source": [
    "#public\n",
    "class default:\n",
    "    def __init__(self):\n",
    "        self.default = \"Default constructor\"\n",
    "    def print_def(self):\n",
    "            print(self.default)"
   ]
  },
  {
   "cell_type": "code",
   "execution_count": 13,
   "id": "29f1f25b",
   "metadata": {},
   "outputs": [
    {
     "name": "stdout",
     "output_type": "stream",
     "text": [
      "A t-shirt costs Rs.150\n"
     ]
    }
   ],
   "source": [
    "#protected\n",
    "_type = None\n",
    "_price = None\n",
    "class Dress:\n",
    "   def __init__(self, type, price):\n",
    "       self.type = type\n",
    "       self.price = price\n",
    "   def details(self):\n",
    "       return f\"A {self.type} costs Rs.{self.price}\"\n",
    "t_shirt = Dress(price=150, type=\"t-shirt\")\n",
    "print(t_shirt.details())"
   ]
  },
  {
   "cell_type": "code",
   "execution_count": 14,
   "id": "9143e778",
   "metadata": {},
   "outputs": [
    {
     "name": "stdout",
     "output_type": "stream",
     "text": [
      "A t-shirt costs Rs.150\n"
     ]
    }
   ],
   "source": [
    "#private\n",
    "__type = None\n",
    "__price = None\n",
    "class Dress:\n",
    "   def __init__(self, type, price):\n",
    "       self.type = type\n",
    "       self.price = price\n",
    "   def details(self):\n",
    "       return f\"A {self.type} costs Rs.{self.price}\"\n",
    "t_shirt = Dress(price=150, type=\"t-shirt\")\n",
    "print(t_shirt.details())"
   ]
  },
  {
   "cell_type": "code",
   "execution_count": 15,
   "id": "297bc748",
   "metadata": {},
   "outputs": [
    {
     "name": "stdout",
     "output_type": "stream",
     "text": [
      "None\n",
      "{'name': 'John', 'id': 101, 'age': 22}\n",
      "__main__\n"
     ]
    }
   ],
   "source": [
    "class Student:    \n",
    "    def __init__(self,name,id,age):    \n",
    "        self.name = name;    \n",
    "        self.id = id;    \n",
    "        self.age = age    \n",
    "    def display_details(self):    \n",
    "        print(\"Name:%s, ID:%d, age:%d\"%(self.name,self.id))    \n",
    "s = Student(\"John\",101,22)    \n",
    "print(s.__doc__)    \n",
    "print(s.__dict__)    \n",
    "print(s.__module__) "
   ]
  },
  {
   "cell_type": "code",
   "execution_count": null,
   "id": "9b51ddbb",
   "metadata": {},
   "outputs": [],
   "source": []
  }
 ],
 "metadata": {
  "kernelspec": {
   "display_name": "Python 3 (ipykernel)",
   "language": "python",
   "name": "python3"
  },
  "language_info": {
   "codemirror_mode": {
    "name": "ipython",
    "version": 3
   },
   "file_extension": ".py",
   "mimetype": "text/x-python",
   "name": "python",
   "nbconvert_exporter": "python",
   "pygments_lexer": "ipython3",
   "version": "3.9.7"
  }
 },
 "nbformat": 4,
 "nbformat_minor": 5
}
