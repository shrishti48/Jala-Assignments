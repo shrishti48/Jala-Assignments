{
 "cells": [
  {
   "cell_type": "code",
   "execution_count": null,
   "id": "dc1d0412",
   "metadata": {},
   "outputs": [],
   "source": [
    "try:\n",
    "\ta = 10/0\n",
    "\tprint (a)\n",
    "except ArithmeticError:\n",
    "\t\tprint (\"This statement is raising an arithmetic exception.\")\n",
    "else:\n",
    "\tprint (\"Success.\")"
   ]
  },
  {
   "cell_type": "code",
   "execution_count": null,
   "id": "cd54ea7a",
   "metadata": {},
   "outputs": [],
   "source": [
    "class Maths:\n",
    "    def operation(self,a):\n",
    "        try:\n",
    "            div = a / 0\n",
    "\n",
    "        except ArithmeticError:\n",
    "            print(\"This will raise an Error. Because Numbers cannot be divisible by 0.\")\n",
    "        else:\n",
    "            print(div)\n",
    "division = Maths()\n",
    "division.operation(15)"
   ]
  },
  {
   "cell_type": "code",
   "execution_count": null,
   "id": "76517ca9",
   "metadata": {},
   "outputs": [],
   "source": [
    "from datetime import datetime\n",
    "\n",
    "current_date = datetime.now()\n",
    "print (\"Current date is: \" + current_date.strftime('%Y-%m-%d'))\n",
    "\n",
    "dateinput = input(\"Enter date in yyyy-mm-dd format: \")\n",
    "\"\"\" We are not checking for the date input format here \"\"\"\n",
    "date_provided = datetime.strptime(dateinput, '%Y-%m-%d')\n",
    "print (\"Date provided is: \" + date_provided.strftime('%Y-%m-%d'))\n",
    "\n",
    "if (date_provided.date() < current_date.date()):\n",
    "    raise Exception(\"Date provided can't be in the past\")"
   ]
  },
  {
   "cell_type": "code",
   "execution_count": null,
   "id": "8493a5a1",
   "metadata": {},
   "outputs": [],
   "source": [
    "input_list_1 = ['Hello', ' from', 123, 456, ' AskPython']\n",
    "input_list_2 = [123, 456, ' AskPython']\n",
    " \n",
    "def add_list(ip):\n",
    "   \n",
    "    if isinstance(ip, list):\n",
    "        result = '' if isinstance(ip[0], str) else 0\n",
    "        for item in ip:\n",
    "            if isinstance(item, int) and item > 200:\n",
    "                raise ValueError('Integer Item has to be <= 200')\n",
    "            result = result + item\n",
    "        return result\n",
    "    else:\n",
    "        return None\n",
    " \n",
    "try:\n",
    "   \n",
    "    res = add_list(input_list_1)\n",
    "    print(res)\n",
    "except TypeError as te:\n",
    "    print(type(te), te)\n",
    "except ValueError as ve:\n",
    "    print(type(ve), ve)\n",
    " \n",
    "try:\n",
    "    \n",
    "    res = add_list(input_list_2)\n",
    "    print(res)\n",
    "except TypeError as te:\n",
    "    print(type(te), te)\n",
    "except ValueError as ve:\n",
    "    print(type(ve), ve)"
   ]
  },
  {
   "cell_type": "code",
   "execution_count": null,
   "id": "94f484bb",
   "metadata": {},
   "outputs": [],
   "source": [
    "try:\n",
    "    raise NameError('Hello')\n",
    "except NameError:\n",
    "    print('My own message')"
   ]
  },
  {
   "cell_type": "code",
   "execution_count": null,
   "id": "0941f90a",
   "metadata": {},
   "outputs": [],
   "source": [
    "class MyException(Exception):\n",
    "  def __init__(self, message):\n",
    "    self.message = message"
   ]
  },
  {
   "cell_type": "code",
   "execution_count": null,
   "id": "2063f7c3",
   "metadata": {},
   "outputs": [],
   "source": [
    "try:\n",
    "   print(\"try block\")\n",
    "except:\n",
    "   print(\"except block\")\n",
    "finally:\n",
    "   print(\"final block\")"
   ]
  },
  {
   "cell_type": "code",
   "execution_count": null,
   "id": "43a998bd",
   "metadata": {},
   "outputs": [],
   "source": [
    "try:      \n",
    "    a=10/0;      \n",
    "except(ArithmeticError, IOError):      \n",
    "    print(\"Arithmetic Exception\")      \n",
    "else:      \n",
    "    print(\"Successfully Done\")   "
   ]
  },
  {
   "cell_type": "code",
   "execution_count": null,
   "id": "02e07722",
   "metadata": {},
   "outputs": [],
   "source": [
    "while True:\n",
    "    prompt = input(\"\\n Hello to Sudoku valitator\")\n",
    "    try:\n",
    "        sudoku = open(prompt, 'r').readlines()\n",
    "    except FileNotFoundError:\n",
    "        print(\"Wrong file or file path\")\n",
    "    else:\n",
    "        break"
   ]
  },
  {
   "cell_type": "code",
   "execution_count": null,
   "id": "a86ac183",
   "metadata": {},
   "outputs": [],
   "source": [
    "from subprocess import call\n",
    "def main():\n",
    "    call(['java', '-cp', '\\\"*\\\"','-Xmx2g','edu.stanford.nlp.pipeline.StanfordCoreNLP','-annotators','tokenize,pos,lemma,ner,parse,dcoref,depparse', '-file', 'input/input.txt'])"
   ]
  },
  {
   "cell_type": "code",
   "execution_count": null,
   "id": "de8fa5a0",
   "metadata": {},
   "outputs": [],
   "source": [
    "import sys\n",
    "def whatever():\n",
    "try:\n",
    "f = open ( \"foo.txt\", 'r' )\n",
    "except IOError, e:\n",
    "print e\n",
    "print sys.exc_type\n",
    "whatever()"
   ]
  },
  {
   "cell_type": "code",
   "execution_count": null,
   "id": "6b8b3f18",
   "metadata": {},
   "outputs": [],
   "source": [
    "while True:\n",
    "    prompt = input(\"\\n Hello to Sudoku valitator\")\n",
    "    try:\n",
    "        sudoku = open(prompt, 'r').readlines()\n",
    "    except NoSuchFieldError:\n",
    "        print(\"Wrong file or file path\")\n",
    "    else:\n",
    "        break"
   ]
  },
  {
   "cell_type": "code",
   "execution_count": null,
   "id": "a9e5aec4",
   "metadata": {},
   "outputs": [],
   "source": []
  }
 ],
 "metadata": {
  "kernelspec": {
   "display_name": "Python 3 (ipykernel)",
   "language": "python",
   "name": "python3"
  },
  "language_info": {
   "codemirror_mode": {
    "name": "ipython",
    "version": 3
   },
   "file_extension": ".py",
   "mimetype": "text/x-python",
   "name": "python",
   "nbconvert_exporter": "python",
   "pygments_lexer": "ipython3",
   "version": "3.9.7"
  }
 },
 "nbformat": 4,
 "nbformat_minor": 5
}
