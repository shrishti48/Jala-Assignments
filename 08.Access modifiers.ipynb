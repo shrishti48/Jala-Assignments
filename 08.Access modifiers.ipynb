{
 "cells": [
  {
   "cell_type": "code",
   "execution_count": 24,
   "id": "9533d8dc",
   "metadata": {},
   "outputs": [],
   "source": [
    "#private fields\n",
    "class private:\n",
    "   __access = 7"
   ]
  },
  {
   "cell_type": "code",
   "execution_count": 25,
   "id": "fdb6b3e9",
   "metadata": {},
   "outputs": [],
   "source": [
    "#private method\n",
    "class private:\n",
    "    def __access(a,b):\n",
    "        return a+bc\n"
   ]
  },
  {
   "cell_type": "code",
   "execution_count": 26,
   "id": "520ae020",
   "metadata": {},
   "outputs": [
    {
     "name": "stdout",
     "output_type": "stream",
     "text": [
      "7\n"
     ]
    }
   ],
   "source": [
    "c"
   ]
  },
  {
   "cell_type": "code",
   "execution_count": 27,
   "id": "87d4969a",
   "metadata": {},
   "outputs": [],
   "source": [
    "class private:\n",
    "    class sub:\n",
    "        def __access(a,b):\n",
    "            return a+b"
   ]
  },
  {
   "cell_type": "code",
   "execution_count": 28,
   "id": "c11babb7",
   "metadata": {},
   "outputs": [],
   "source": [
    "#protected fields\n",
    "class protected:\n",
    "   _access = 7"
   ]
  },
  {
   "cell_type": "code",
   "execution_count": 32,
   "id": "486481c7",
   "metadata": {},
   "outputs": [],
   "source": [
    "#protected method\n",
    "class protected:\n",
    "    def _access(a,b):\n",
    "        return a+b\n",
    "#same package\n",
    "class protected2:\n",
    "    def _access(a,b):\n",
    "        print(_access(3,4))"
   ]
  },
  {
   "cell_type": "code",
   "execution_count": 35,
   "id": "5349a67d",
   "metadata": {},
   "outputs": [],
   "source": [
    "#different package\n",
    "def _access(a,b):\n",
    "    return(a+b)"
   ]
  },
  {
   "cell_type": "code",
   "execution_count": 36,
   "id": "9d34fdd3",
   "metadata": {},
   "outputs": [],
   "source": [
    "#public fields\n",
    "class public:\n",
    "   access = 7"
   ]
  },
  {
   "cell_type": "code",
   "execution_count": null,
   "id": "07bbbef4",
   "metadata": {},
   "outputs": [],
   "source": [
    "#public method\n",
    "def access(a,b):\n",
    "    return(access(a,b))\n",
    "print(access(3,4))"
   ]
  },
  {
   "cell_type": "code",
   "execution_count": 1,
   "id": "c968cbb1",
   "metadata": {},
   "outputs": [],
   "source": [
    "class public:\n",
    "    def access(a,b):\n",
    "        return(access(a,b))"
   ]
  },
  {
   "cell_type": "code",
   "execution_count": null,
   "id": "003d704e",
   "metadata": {},
   "outputs": [],
   "source": []
  }
 ],
 "metadata": {
  "kernelspec": {
   "display_name": "Python 3 (ipykernel)",
   "language": "python",
   "name": "python3"
  },
  "language_info": {
   "codemirror_mode": {
    "name": "ipython",
    "version": 3
   },
   "file_extension": ".py",
   "mimetype": "text/x-python",
   "name": "python",
   "nbconvert_exporter": "python",
   "pygments_lexer": "ipython3",
   "version": "3.9.7"
  }
 },
 "nbformat": 4,
 "nbformat_minor": 5
}
