{
 "cells": [
  {
   "cell_type": "code",
   "execution_count": 1,
   "id": "09bdce5d",
   "metadata": {},
   "outputs": [],
   "source": [
    "class A():\n",
    "    def __init__(self):\n",
    "        self.x = 0\n",
    "        \n",
    "class B():\n",
    "    def __init__(self):\n",
    "        self.x = 1"
   ]
  },
  {
   "cell_type": "code",
   "execution_count": 4,
   "id": "9f41d719",
   "metadata": {},
   "outputs": [
    {
     "name": "stdout",
     "output_type": "stream",
     "text": [
      "10\n",
      "<function Person.greet at 0x000001B319486310>\n"
     ]
    }
   ],
   "source": [
    "class Person:\n",
    "    \"This is a person class\"\n",
    "    age = 10\n",
    "\n",
    "    def greet(self):\n",
    "        print('Hello')\n",
    "print(Person.age)\n",
    "print(Person.greet)\n"
   ]
  },
  {
   "cell_type": "code",
   "execution_count": null,
   "id": "c0e1ff1c",
   "metadata": {},
   "outputs": [],
   "source": []
  }
 ],
 "metadata": {
  "kernelspec": {
   "display_name": "Python 3 (ipykernel)",
   "language": "python",
   "name": "python3"
  },
  "language_info": {
   "codemirror_mode": {
    "name": "ipython",
    "version": 3
   },
   "file_extension": ".py",
   "mimetype": "text/x-python",
   "name": "python",
   "nbconvert_exporter": "python",
   "pygments_lexer": "ipython3",
   "version": "3.9.7"
  }
 },
 "nbformat": 4,
 "nbformat_minor": 5
}
