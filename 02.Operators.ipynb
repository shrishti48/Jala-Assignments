{
 "cells": [
  {
   "cell_type": "code",
   "execution_count": 1,
   "id": "4afa8911",
   "metadata": {},
   "outputs": [
    {
     "name": "stdout",
     "output_type": "stream",
     "text": [
      "30 -10 200 0.5\n"
     ]
    }
   ],
   "source": [
    "a = 10\n",
    "b = 20\n",
    "c = a+b\n",
    "d = a-b\n",
    "e = a*b\n",
    "f = a/b\n",
    "print(c,d,e,f)"
   ]
  },
  {
   "cell_type": "code",
   "execution_count": 5,
   "id": "7deddbd4",
   "metadata": {},
   "outputs": [
    {
     "name": "stdout",
     "output_type": "stream",
     "text": [
      "-2\n"
     ]
    }
   ],
   "source": [
    "a = 10\n",
    "a =+1\n",
    "a =-2\n",
    "print(a)"
   ]
  },
  {
   "cell_type": "code",
   "execution_count": 6,
   "id": "b24f5036",
   "metadata": {},
   "outputs": [
    {
     "name": "stdout",
     "output_type": "stream",
     "text": [
      "Enter the number: 20\n",
      "Enter the  number: 30\n",
      "Inputs are not equal\n"
     ]
    }
   ],
   "source": [
    "a = input(\"Enter the number: \")\n",
    "b = input(\"Enter the  number: \")\n",
    "if a == b:\n",
    "  print (\"Inputs are equal\")\n",
    "else:\n",
    "  print (\"Inputs are not equal\")"
   ]
  },
  {
   "cell_type": "code",
   "execution_count": 8,
   "id": "dc60a944",
   "metadata": {},
   "outputs": [
    {
     "name": "stdout",
     "output_type": "stream",
     "text": [
      "True\n",
      "True\n",
      "False\n",
      "False\n"
     ]
    }
   ],
   "source": [
    "a = 10\n",
    "b = 20\n",
    "print(a<b)\n",
    "print(a<=b)\n",
    "print(a>b)\n",
    "print(a>=b)"
   ]
  },
  {
   "cell_type": "code",
   "execution_count": 9,
   "id": "d8615aa1",
   "metadata": {},
   "outputs": [
    {
     "name": "stdout",
     "output_type": "stream",
     "text": [
      "The greater number is 20\n",
      "The smaller number is 10\n"
     ]
    }
   ],
   "source": [
    "a = 10\n",
    "b = 20\n",
    "if a>b:\n",
    "    print(\"The greater number is\",a )\n",
    "    print(\"The smaller number is\",b)\n",
    "else:\n",
    "    print(\"The greater number is\",b)\n",
    "    print(\"The smaller number is\",a)"
   ]
  },
  {
   "cell_type": "code",
   "execution_count": null,
   "id": "ee1cb24e",
   "metadata": {},
   "outputs": [],
   "source": []
  }
 ],
 "metadata": {
  "kernelspec": {
   "display_name": "Python 3 (ipykernel)",
   "language": "python",
   "name": "python3"
  },
  "language_info": {
   "codemirror_mode": {
    "name": "ipython",
    "version": 3
   },
   "file_extension": ".py",
   "mimetype": "text/x-python",
   "name": "python",
   "nbconvert_exporter": "python",
   "pygments_lexer": "ipython3",
   "version": "3.9.7"
  }
 },
 "nbformat": 4,
 "nbformat_minor": 5
}
